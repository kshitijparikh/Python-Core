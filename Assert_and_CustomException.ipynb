{
 "cells": [
  {
   "cell_type": "code",
   "execution_count": 4,
   "id": "59850f4f",
   "metadata": {},
   "outputs": [
    {
     "name": "stdout",
     "output_type": "stream",
     "text": [
      "1\n",
      "The dictionary values are not numeric \n",
      "\n",
      "2\n",
      "Actual parameter should be a dictionary\n",
      "\n",
      "3\n",
      "Length of dictionary cannot be zero\n"
     ]
    }
   ],
   "source": [
    "def func1(my_dict):\n",
    "    \n",
    "    try:\n",
    "        assert type(my_dict)==dict, 'Actual parameter should be a dictionary'\n",
    "        \n",
    "        for i in my_dict.values():\n",
    "            if type(i)!=float or int : raise e\n",
    "        \n",
    "        assert len(my_dict)>0, 'Length of dictionary cannot be zero'\n",
    "        \n",
    "        keys=list(my_dict.keys())\n",
    "        keys.sort()\n",
    "        sorted_dict={i:my_dict[i] for i in keys}\n",
    "        list1=[(values,keys) for keys,values in sorted_dict.items()]\n",
    "        print(list1)\n",
    "    \n",
    "    except AssertionError as msg:\n",
    "        print(msg) \n",
    "    except Exception as e:\n",
    "        print('The dictionary values are not numeric ')\n",
    "\n",
    "print('1')\n",
    "x=func1({'c': 3, 'a': 1, 'd': 4, 'b': 'a'})\n",
    "print(\"\")\n",
    "print('2')\n",
    "y=func1([])\n",
    "print('')\n",
    "print('3')\n",
    "z=func1({})\n"
   ]
  },
  {
   "cell_type": "code",
   "execution_count": null,
   "id": "0988abee",
   "metadata": {},
   "outputs": [],
   "source": []
  }
 ],
 "metadata": {
  "kernelspec": {
   "display_name": "Python 3 (ipykernel)",
   "language": "python",
   "name": "python3"
  },
  "language_info": {
   "codemirror_mode": {
    "name": "ipython",
    "version": 3
   },
   "file_extension": ".py",
   "mimetype": "text/x-python",
   "name": "python",
   "nbconvert_exporter": "python",
   "pygments_lexer": "ipython3",
   "version": "3.11.0"
  }
 },
 "nbformat": 4,
 "nbformat_minor": 5
}
