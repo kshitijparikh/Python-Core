{
 "cells": [
  {
   "cell_type": "code",
   "execution_count": 46,
   "id": "79ecc5ce",
   "metadata": {},
   "outputs": [],
   "source": [
    "from abc import ABCMeta, abstractmethod"
   ]
  },
  {
   "cell_type": "code",
   "execution_count": 54,
   "id": "43caca52",
   "metadata": {},
   "outputs": [],
   "source": [
    "'''\n",
    "The given Code is of Creating a Vector and performing arithematic operations:\n",
    "Dot Product, Scalar Product, Substraction, Addition\n",
    "\n",
    "Skills Used : Abstraction, Polymorphism (Method Overriding), Inheritance(Heirarchichal, MultiClass),\n",
    "                Method Overloading\n",
    "Topics : Magic Methods, ListComprehension, Exception Handling, Testing\n",
    "\n",
    "'''\n",
    "\n",
    "class Arithematic(metaclass=ABCMeta):\n",
    "    def __mul__(self,obj):\n",
    "        if isinstance(obj,(int,float)):\n",
    "            return [self[i]*obj for i in range(len(self))]\n",
    "        elif isinstance(obj,Vector):\n",
    "            if len(self)!=len(obj):\n",
    "                print('Vectors should be of same number of dimensions')\n",
    "            else:\n",
    "                return [self[i]*obj[i] for i in range(len(self))]\n",
    "    def __sub__(self,obj):\n",
    "        if isinstance(obj,Vector):\n",
    "            if len(self)!=len(obj):\n",
    "                raise ValueError('dimensions must match')\n",
    "            result=[0]*len(self)\n",
    "            for i in range(len(self)):\n",
    "                result[i]=self[i]-obj[i]\n",
    "            return result\n",
    "        else:\n",
    "            print('Inappropriate Input')\n",
    "    def __add__(self,obj):\n",
    "        if isinstance(obj,Vector):\n",
    "            if len(self)!=len(obj) :\n",
    "                raise ValueError('dimensions must match')\n",
    "            result=[0]*len(self)\n",
    "            for i in range(len(self)):\n",
    "                result[i]=self[i]+obj[i]\n",
    "            return result\n",
    "        else:\n",
    "            print('Inappropriate Input')\n",
    "    def __neg__(self):\n",
    "        return [-self[i] for i in range(len(self))]\n",
    "    @abstractmethod\n",
    "    def __rsub__(self,obj):\n",
    "        pass\n",
    "    \n",
    "    @abstractmethod\n",
    "    def __radd__(self,obj):\n",
    "        pass\n",
    "    \n",
    "    @abstractmethod\n",
    "    def __rmul__(self,obj):\n",
    "        pass"
   ]
  },
  {
   "cell_type": "code",
   "execution_count": 61,
   "id": "875a2731",
   "metadata": {},
   "outputs": [],
   "source": [
    "class Arithematic_Bi_Directional(Arithematic):\n",
    "    def __radd__(self,obj):\n",
    "        if isinstance(obj,Vector):\n",
    "            if len(self)!=len(obj):\n",
    "                raise ValueError('dimensions must match')\n",
    "            result=[0]*len(self)\n",
    "            result=[obj[i]+self[i] for i in range(len(self))]\n",
    "            return result\n",
    "        else:\n",
    "            print('Inappropriate Input')\n",
    "    def __rmul__(self,obj):\n",
    "        if isinstance(obj,(int,float)):\n",
    "            return [self[i]*obj for i in range(len(self))]\n",
    "        elif isinstance(obj,Vector):\n",
    "            return [self[i]*obj[i] for i in range(len(self))]\n",
    "        else:\n",
    "            raise ValueError('Inappropriate Input')\n",
    "    \n",
    "    def __rsub__(self,obj):\n",
    "        if isinstance(obj,Vector) :\n",
    "            return [obj[i]-self[i] for i in range(len(self))]\n",
    "        else:\n",
    "            print('Inappropriate Input')"
   ]
  },
  {
   "cell_type": "code",
   "execution_count": 62,
   "id": "9e8557bc",
   "metadata": {},
   "outputs": [],
   "source": [
    "class Set_Item:\n",
    "    def __getitem__(self,j):\n",
    "        return self._coords[j]\n",
    "    def __setitem__(self,j,val):\n",
    "        self._coords[j]=val"
   ]
  },
  {
   "cell_type": "code",
   "execution_count": 63,
   "id": "590adefc",
   "metadata": {},
   "outputs": [],
   "source": [
    "class Describe:\n",
    "    def __len__(self):\n",
    "        return len(self._coords)\n",
    "    def __str__(self):\n",
    "        return str(self._coords)\n",
    "    def __repr__(self):\n",
    "        return str(self._coords)"
   ]
  },
  {
   "cell_type": "code",
   "execution_count": 64,
   "id": "00993576",
   "metadata": {},
   "outputs": [],
   "source": [
    "class Vector(Arithematic_Bi_Directional, Set_Item,Describe):\n",
    "    def __init__(self,d):\n",
    "        if isinstance(d,int):\n",
    "            self._coords=[0]*d\n",
    "        elif isinstance(d,(list,tuple,set)):\n",
    "            self._coords=list(d)\n",
    "        else:\n",
    "            print('Enter the parameters in either iterable form or integer form')\n",
    "   \n",
    "\n"
   ]
  },
  {
   "cell_type": "code",
   "execution_count": 66,
   "id": "ea792585",
   "metadata": {},
   "outputs": [
    {
     "name": "stdout",
     "output_type": "stream",
     "text": [
      "[2, 4, 6]\n",
      "[4, 6, 8]\n",
      "Inappropriate Input\n",
      "None\n",
      "Inappropriate Input\n",
      "None\n",
      "Inappropriate Input\n",
      "None\n",
      "Inappropriate Input\n",
      "None\n",
      "[-1, -2, -3]\n",
      "[2, 3, 4]\n",
      "[2, 4, 6]\n",
      "[4, 6, 8]\n",
      "[3, 4, 5]\n",
      "[3, 4, 5]\n",
      "[1, 0, -1]\n",
      "[-1, 0, 1]\n",
      "[-1, -2, -3]\n",
      "[2, 3, 4]\n"
     ]
    }
   ],
   "source": [
    "#Manual Testing\n",
    "if __name__=='__main__':\n",
    "    Vector_List1=[]\n",
    "    Vector_List1.append(Vector([1,2,3]))\n",
    "    Vector_List1.append(Vector([2,3,4]))\n",
    "    v=Vector([2,2,2])\n",
    "    u=2\n",
    "    for i in [u,v]:\n",
    "        print(i*Vector_List1[0])\n",
    "        print(Vector_List1[1]*i)\n",
    "        print(i+Vector_List1[0])\n",
    "        print(Vector_List1[0]+i)\n",
    "        print(i-Vector_List1[0])\n",
    "        print(Vector_List1[0]-i)\n",
    "        print(-Vector_List1[0])\n",
    "        print(str(Vector_List1[1]))"
   ]
  },
  {
   "cell_type": "code",
   "execution_count": null,
   "id": "5254aca4",
   "metadata": {},
   "outputs": [],
   "source": []
  },
  {
   "cell_type": "code",
   "execution_count": null,
   "id": "b67c93c7",
   "metadata": {},
   "outputs": [],
   "source": []
  }
 ],
 "metadata": {
  "kernelspec": {
   "display_name": "Python 3 (ipykernel)",
   "language": "python",
   "name": "python3"
  },
  "language_info": {
   "codemirror_mode": {
    "name": "ipython",
    "version": 3
   },
   "file_extension": ".py",
   "mimetype": "text/x-python",
   "name": "python",
   "nbconvert_exporter": "python",
   "pygments_lexer": "ipython3",
   "version": "3.11.0"
  }
 },
 "nbformat": 4,
 "nbformat_minor": 5
}
